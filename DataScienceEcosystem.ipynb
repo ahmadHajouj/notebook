{
 "cells": [
  {
   "attachments": {},
   "cell_type": "markdown",
   "id": "7d2994bb",
   "metadata": {},
   "source": [
    "# Data Science Tools and Ecosystem"
   ]
  },
  {
   "attachments": {},
   "cell_type": "markdown",
   "id": "fae937e3",
   "metadata": {},
   "source": [
    "# In this notebook, Data Science Tools and Ecosystem are summarized."
   ]
  },
  {
   "attachments": {},
   "cell_type": "markdown",
   "id": "4e045135",
   "metadata": {},
   "source": [
    "# Some of the popular languages that Data Scientists use are:\n",
    "1. Python\n",
    "2. R\n",
    "3. SQL\n",
    "4. Java\n",
    "5. JS"
   ]
  },
  {
   "attachments": {},
   "cell_type": "markdown",
   "id": "8373abe4",
   "metadata": {},
   "source": [
    "# Some of the commonly used libraries used by Data Scientists include:\n",
    "1. NumPy\n",
    "2. Scikit-learn\n",
    "3. Pandas\n",
    "4. TensorFlow"
   ]
  },
  {
   "attachments": {},
   "cell_type": "markdown",
   "id": "fc85b952",
   "metadata": {},
   "source": [
    "| Data Science Tools|\n",
    "----------------------\n",
    "| vs code |\n",
    "| RStudio |\n",
    "| JupyterLab |"
   ]
  },
  {
   "attachments": {},
   "cell_type": "markdown",
   "id": "00afa804",
   "metadata": {},
   "source": [
    "### Below are a few examples of evaluating arithmetic expressions in Python"
   ]
  },
  {
   "cell_type": "code",
   "execution_count": 1,
   "id": "61d9e488",
   "metadata": {},
   "outputs": [
    {
     "data": {
      "text/plain": [
       "17"
      ]
     },
     "execution_count": 1,
     "metadata": {},
     "output_type": "execute_result"
    }
   ],
   "source": [
    "#This a simple arithmetic expression to mutiply then add integers\n",
    "(3*4)+5"
   ]
  },
  {
   "cell_type": "code",
   "execution_count": 2,
   "id": "88d0e1ea",
   "metadata": {},
   "outputs": [
    {
     "data": {
      "text/plain": [
       "3.3333333333333335"
      ]
     },
     "execution_count": 2,
     "metadata": {},
     "output_type": "execute_result"
    }
   ],
   "source": [
    "#his will convert 200 minutes to hours by diving by 60\n",
    "200/60"
   ]
  },
  {
   "cell_type": "markdown",
   "id": "237a30d5",
   "metadata": {},
   "source": [
    "**Objectives:**\n",
    "- Data Science Tools\n",
    "- List popular languages for Data Science\n",
    "- The commonly used libraries used by Data Scientists include\n",
    "- Arithmetic expressions in Python"
   ]
  },
  {
   "cell_type": "markdown",
   "id": "0a5783ee",
   "metadata": {},
   "source": [
    "## Author\n",
    "Ahmed Alhajuj"
   ]
  }
 ],
 "metadata": {
  "kernelspec": {
   "display_name": "Python 3 (ipykernel)",
   "language": "python",
   "name": "python3"
  },
  "language_info": {
   "codemirror_mode": {
    "name": "ipython",
    "version": 3
   },
   "file_extension": ".py",
   "mimetype": "text/x-python",
   "name": "python",
   "nbconvert_exporter": "python",
   "pygments_lexer": "ipython3",
   "version": "3.11.5"
  }
 },
 "nbformat": 4,
 "nbformat_minor": 5
}
